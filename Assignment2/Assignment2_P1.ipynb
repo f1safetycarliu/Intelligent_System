{
 "cells": [
  {
   "cell_type": "code",
   "execution_count": 34,
   "metadata": {
    "collapsed": true
   },
   "outputs": [],
   "source": [
    "import pandas as pd\n",
    "import numpy as np\n",
    "from random import shuffle\n",
    "import matplotlib.pyplot as plt"
   ]
  },
  {
   "cell_type": "code",
   "execution_count": 33,
   "metadata": {
    "scrolled": true
   },
   "outputs": [
    {
     "name": "stdout",
     "output_type": "stream",
     "text": [
      "{54: 76, 52: 61, 37: 220, 33: 105, 56: 72, 60: 50, 39: 251, 35: 162, 26: 35, 43: 141, 20: 47, 41: 211, 28: 23, 22: 74, 48: 21, 24: 62, 45: 61, 31: 45, 58: 76, 50: 43, 18: 17, 62: 31, 30: 7, 75: 3, 29: 5, 51: 2, 11: 2, 46: 6, 16: 1, 9: 6, 64: 15, 68: 2, 73: 2, 81: 1, 47: 26, 49: 7, 27: 3, 67: 2, 53: 1, 79: 3, 32: 1, 66: 8, 44: 1, 7: 3, 77: 1, 69: 1, 70: 1, 14: 1, 72: 1, 61: 1, 13: 1, 76: 1, 83: 1}\n"
     ]
    }
   ],
   "source": [
    "with open('./perceptron_train.dat') as f:\n",
    "    data = []\n",
    "    frequency = []\n",
    "    frequency_dict = dict()\n",
    "    for row in f:\n",
    "        data.append(row.split())\n",
    "    epochs = 2000\n",
    "    for _ in range(epochs):\n",
    "        X_train,y_train = suffle_data(data)\n",
    "        frequency.append(PLA(X_train, y_train))\n",
    "        \n",
    "    #print(frequency)\n",
    "    for i in frequency:\n",
    "        frequency_dict[i] = frequency_dict.get(i, 0) + 1\n",
    "    print(frequency_dict)"
   ]
  },
  {
   "cell_type": "code",
   "execution_count": 52,
   "metadata": {},
   "outputs": [
    {
     "data": {
      "image/png": "[encoded data removed]",
      "text/plain": [
       "<matplotlib.figure.Figure at 0x1e29e06b6d8>"
      ]
     },
     "metadata": {},
     "output_type": "display_data"
    }
   ],
   "source": [
    "def plot():\n",
    "    sort_frequency_dict = sorted(frequency_dict.items())\n",
    "    plt.title(\"2000 times PLA's Update Frequency \",color='r')\n",
    "    plt.xlabel('Update times',color = 'red')\n",
    "    plt.ylabel('Frequency',color = 'red')\n",
    "    plt.bar([sort_frequency_dict[i][0] for i in range(len(sort_frequency_dict))], [sort_frequency_dict[i][1] for i in range(len(sort_frequency_dict))])\n",
    "    plt.savefig('hist.jpg') #savefig must before plt.show() , reason: https://stackoverflow.com/questions/21875356/saving-a-figure-after-invoking-pyplot-show-results-in-an-empty-file\n",
    "    plt.show()\n",
    "plot()\n"
   ]
  },
  {
   "cell_type": "code",
   "execution_count": 17,
   "metadata": {
    "collapsed": true
   },
   "outputs": [],
   "source": [
    "def suffle_data(data):\n",
    "    feature = []\n",
    "    label = []\n",
    "    ## random sort data\n",
    "    shuffle(data)\n",
    "    #print(data)\n",
    "    \n",
    "    for i in data: \n",
    "        feature.append(i[:-1])\n",
    "        label.append(i[-1:])\n",
    "    X_train = np.array(feature,dtype = np.float64)\n",
    "    y_train = np.array(label,dtype = np.float64)\n",
    "    return X_train,y_train\n",
    "    "
   ]
  },
  {
   "cell_type": "code",
   "execution_count": 28,
   "metadata": {},
   "outputs": [],
   "source": [
    "def PLA(X_train, y_train):\n",
    "    #initial w0 & b0\n",
    "    w=np.zeros(4)\n",
    "    b=np.zeros(1)\n",
    "    update_times = 0\n",
    "    while True:\n",
    "        no_mistake = True\n",
    "        for i in range(X_train.shape[0]):\n",
    "            if y_train[i] * (np.dot(w,X_train[i]) + b) <= 0: # Mistake happened, update w & b\n",
    "                update_times += 1\n",
    "                no_mistake = False\n",
    "                w += y_train[i] * X_train[i]\n",
    "                b += y_train[i]\n",
    "                #print(y_train[i] , X_train[i],y_train[i] * X_train[i],w,b)\n",
    "                #input()\n",
    "        if no_mistake == True:\n",
    "            return update_times\n",
    "            break\n"
   ]
  }
 ],
 "metadata": {
  "kernelspec": {
   "display_name": "Python 3",
   "language": "python",
   "name": "python3"
  },
  "language_info": {
   "codemirror_mode": {
    "name": "ipython",
    "version": 3
   },
   "file_extension": ".py",
   "mimetype": "text/x-python",
   "name": "python",
   "nbconvert_exporter": "python",
   "pygments_lexer": "ipython3",
   "version": "3.6.1"
  }
 },
 "nbformat": 4,
 "nbformat_minor": 2
}
