{
 "cells": [
  {
   "cell_type": "markdown",
   "metadata": {},
   "source": [
    "# Linear Regression\n",
    "-  https://sites.google.com/site/18springis/"
   ]
  },
  {
   "cell_type": "code",
   "execution_count": 1,
   "metadata": {
    "collapsed": true
   },
   "outputs": [],
   "source": [
    "import csv\n",
    "import time\n",
    "import ast\n",
    "import numpy as np\n",
    "import sys"
   ]
  },
  {
   "cell_type": "code",
   "execution_count": 2,
   "metadata": {
    "collapsed": true
   },
   "outputs": [],
   "source": [
    "#處理.CSV\n",
    "def type_converter(string_list): #change str to correct type\n",
    "    coverted_list = []\n",
    "    for i in string_list:\n",
    "        try:\n",
    "            coverted_list.append(ast.literal_eval(i))\n",
    "        except:\n",
    "            coverted_list.append(i) #some still with str type (ex:date、chinese)\n",
    "    return coverted_list\n",
    "            \n",
    "def null_converter(_list): # parameter _list must be a str list\n",
    "    return [w.replace(\"NR\",\"0\") for w in _list]"
   ]
  },
  {
   "cell_type": "code",
   "execution_count": 3,
   "metadata": {
    "collapsed": true
   },
   "outputs": [],
   "source": [
    "#training model\n",
    "def train_model(filename = './train.csv'):\n",
    "    with open(filename) as f:  \n",
    "        ### load data ###\n",
    "        data = [[] for i in range(18)]\n",
    "        row_idx = 0\n",
    "        fir_flag = True\n",
    "        for row in csv.reader(f): #將逗號、\"\"刪除\n",
    "            if fir_flag == True:\n",
    "                fir_flag = False\n",
    "                continue\n",
    "            row = null_converter(row)\n",
    "            #row = type_converter(row)\n",
    "            data[row_idx % 18].extend(row[3:])\n",
    "            row_idx += 1\n",
    "        data = np.array(data)\n",
    "        print(filename.strip('./'),\"loading finish...data dimensions are:\",data.shape,',data count:',row_idx)\n",
    "        \n",
    "        ### feature extraction ###\n",
    "        train_x = np.zeros(shape=(5652,163)) # 471 * 12 = 5652, 18 * 9 + 1 = 163\n",
    "        train_y = np.zeros(shape=(5652,1)) # 471 * 12 = 5652\n",
    "        count_instance = 0\n",
    "        for month in range(12): # 每個月20 * 24 - 10 + 1 = 471筆\n",
    "            shift = 0\n",
    "            idx_x = 0\n",
    "            idx_y = 0\n",
    "            count_attribute = 0\n",
    "            while shift < 471: #處理完一個月\n",
    "                if idx_x == 9 and idx_y == 9: #處理第十筆的PM2.5\n",
    "                    train_y[count_instance][0] =  data[idx_x][month*480 + idx_y + shift]\n",
    "                    #print('將data[',idx_x,'][',month*480 + idx_y + shift,']:',data[idx_x][month*480 + idx_y + shift],'移到','train_y[',count_instance,'][0]')\n",
    "                    idx_x += 1\n",
    "                    idx_y = 0\n",
    "                    continue\n",
    "                elif idx_x == 18: #處理完一筆資料(18*9 + 1 = 163筆)\n",
    "                    train_x[count_instance][count_attribute] = 1 #bias\n",
    "                    #print('將bias:1新增到','train_x[',count_instance,'][',count_attribute,']')\n",
    "                    count_instance += 1\n",
    "                    shift += 1\n",
    "                    count_attribute = 0\n",
    "                    idx_x = 0\n",
    "                    #s = input()\n",
    "                    continue\n",
    "                elif idx_y == 9: #處理完一筆資料中的一個屬性\n",
    "                    idx_x += 1\n",
    "                    idx_y = 0\n",
    "                    continue\n",
    "                else:\n",
    "                    train_x[count_instance][count_attribute] = data[idx_x][month*480 + idx_y + shift]\n",
    "                    #print('將data[',idx_x,'][',month*480 + idx_y + shift,']:',data[idx_x][month*480 + idx_y + shift],'移到','train_x[',count_instance,'][',count_attribute,']')\n",
    "                    count_attribute += 1\n",
    "                idx_y += 1\n",
    "        print(\"feature extraction finish...\")\n",
    "        ### linear regression ###\n",
    "        np.set_printoptions(threshold=np.inf)\n",
    "        weight_vector = np.zeros(shape=(163,1))\n",
    "        learning_rate = 0.3\n",
    "        pre_gradient = np.zeros(shape=(163,1)) #implement adagrad\n",
    "        epochs = 5000\n",
    "        history = []\n",
    "        \n",
    "        for _ in range(epochs):\n",
    "            #print(weight_vector)\n",
    "            #input()\n",
    "            \n",
    "            temp_y = np.dot(train_x,weight_vector)\n",
    "            #print(temp_y)\n",
    "            #input()\n",
    "            loss = temp_y - train_y\n",
    "            #print(loss)\n",
    "            #input()\n",
    "            train_x_transpose = np.transpose(train_x)\n",
    "            gradient = 2 * np.dot(train_x_transpose,loss)\n",
    "            pre_gradient += gradient**2\n",
    "            adagrad = np.sqrt(pre_gradient)\n",
    "            #print(gradient)\n",
    "            #input()\n",
    "            weight_vector = weight_vector - learning_rate * gradient / adagrad\n",
    "        print('training finish...')  \n",
    "        return weight_vector"
   ]
  },
  {
   "cell_type": "code",
   "execution_count": 6,
   "metadata": {
    "collapsed": true
   },
   "outputs": [],
   "source": [
    "#testing  model\n",
    "def test_model(filename = './sample-test.csv'):\n",
    "    ### testing ###\n",
    "    with open(filename) as f:\n",
    "        \n",
    "        ### load data ###\n",
    "        data = [[] for i in range(18)]\n",
    "        row_idx = 0\n",
    "        test_data_number = 0\n",
    "        for row in csv.reader(f): #將逗號、\"\"刪除\n",
    "            row = null_converter(row)\n",
    "            #row = type_converter(row)\n",
    "            data[row_idx % 18].extend(row[2:]) #test資料中沒有日期 所以從2開始\n",
    "            row_idx += 1\n",
    "        data = np.array(data)\n",
    "            \n",
    "        test_data_number = int(row_idx / 18)\n",
    "        print(filename.strip('./'),\"loading finish...data dimensions are:\",data.shape,',data count:',test_data_number)\n",
    "            \n",
    "        ### feature extraction ###\n",
    "        test_x = np.zeros(shape=(test_data_number,163)) \n",
    "        count_instance = 0\n",
    "        count_attribute = 0\n",
    "        for count_instance in range(test_data_number):\n",
    "            idx_x = 0\n",
    "            idx_y = 0\n",
    "            while True:\n",
    "                if idx_x == 18: #處理完一筆資料(18*9 + 1 = 163筆)\n",
    "                    test_x[count_instance][count_attribute] = 1 #bias\n",
    "                    #print('將bias:0新增到','test_x[',count_instance,'][',count_attribute,']')\n",
    "                    count_instance += 1\n",
    "                    count_attribute = 0\n",
    "                    idx_x = 0\n",
    "                    break\n",
    "                elif idx_y == 9: #處理完一筆資料中的一個屬性\n",
    "                    idx_x += 1\n",
    "                    idx_y = 0\n",
    "                    continue\n",
    "                else:\n",
    "                    test_x[count_instance][count_attribute] = data[idx_x][count_instance*9 + idx_y]\n",
    "                    count_attribute += 1\n",
    "                idx_y += 1\n",
    "        print(\"test data feature extraction finish...\")\n",
    "        \n",
    "        test_y = np.dot(test_x,weight_vector)\n",
    "        print(test_y)\n",
    "        print(\"testing finish...\")\n"
   ]
  },
  {
   "cell_type": "code",
   "execution_count": 11,
   "metadata": {
    "scrolled": true
   },
   "outputs": [
    {
     "name": "stdout",
     "output_type": "stream",
     "text": [
      "train.csv loading finish...data dimensions are: (18, 5760) ,data count: 4320\n",
      "feature extraction finish...\n",
      "training finish...\n",
      "sample-test.csv loading finish...data dimensions are: (18, 90) ,data count: 10\n",
      "test data feature extraction finish...\n",
      "[[ 25.29601706]\n",
      " [ 63.37170755]\n",
      " [ 20.22668612]\n",
      " [ 28.49611497]\n",
      " [  9.44164372]\n",
      " [ 28.32683468]\n",
      " [ 41.71594281]\n",
      " [ 16.49849953]\n",
      " [ 50.65030475]\n",
      " [ 31.93918387]]\n",
      "testing finish...\n"
     ]
    }
   ],
   "source": [
    "#np.set_printoptions(threshold=np.inf)\n",
    "#NO COMMAND LINE VER.\n",
    "#(jupyter的sys.argv和在command line下不同)\n",
    "if __name__ == '__main__':\n",
    "    global weight_vector  \n",
    "    weight_vector = train_model()\n",
    "    test_model()  "
   ]
  }
 ],
 "metadata": {
  "kernelspec": {
   "display_name": "Python 3",
   "language": "python",
   "name": "python3"
  },
  "language_info": {
   "codemirror_mode": {
    "name": "ipython",
    "version": 3
   },
   "file_extension": ".py",
   "mimetype": "text/x-python",
   "name": "python",
   "nbconvert_exporter": "python",
   "pygments_lexer": "ipython3",
   "version": "3.6.1"
  }
 },
 "nbformat": 4,
 "nbformat_minor": 2
}
